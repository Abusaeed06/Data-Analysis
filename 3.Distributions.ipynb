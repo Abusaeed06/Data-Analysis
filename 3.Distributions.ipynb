{
 "cells": [
  {
   "cell_type": "code",
   "execution_count": 17,
   "id": "e5176872",
   "metadata": {},
   "outputs": [],
   "source": [
    "import scipy\n",
    "import numpy as np"
   ]
  },
  {
   "cell_type": "markdown",
   "id": "3c6ac9a2",
   "metadata": {},
   "source": [
    "# Binomial Distribution"
   ]
  },
  {
   "cell_type": "code",
   "execution_count": 3,
   "id": "5b298c6d",
   "metadata": {},
   "outputs": [],
   "source": [
    "from scipy.stats import binom"
   ]
  },
  {
   "cell_type": "markdown",
   "id": "122fc6c6",
   "metadata": {},
   "source": [
    "A surveyfound that 65% of all financial cousumers were very \n",
    "satisfied with there primary financial institution. Suppose that\n",
    "25 financial consumers are sampled and if survey result still holds true today, \n",
    "what is the probability that exactly 19 are satisfied with their primart financial institution?"
   ]
  },
  {
   "cell_type": "code",
   "execution_count": 17,
   "id": "f8a095f7",
   "metadata": {},
   "outputs": [
    {
     "data": {
      "text/plain": [
       "0.090777998593228"
      ]
     },
     "execution_count": 17,
     "metadata": {},
     "output_type": "execute_result"
    }
   ],
   "source": [
    "binom.pmf(k=19,n=25,p=0.65)"
   ]
  },
  {
   "cell_type": "markdown",
   "id": "1d6275c7",
   "metadata": {},
   "source": [
    "According to the U.S census bureau approximately 6% of all workers in jackson .Mississippi are unemployed. In conducting a random \n",
    "telephone survey in jackson, what is the probability of getting two or fewer unemployed workers in a sample of 20?"
   ]
  },
  {
   "cell_type": "code",
   "execution_count": 18,
   "id": "8978e915",
   "metadata": {},
   "outputs": [
    {
     "data": {
      "text/plain": [
       "0.8850275957378549"
      ]
     },
     "execution_count": 18,
     "metadata": {},
     "output_type": "execute_result"
    }
   ],
   "source": [
    "binom.cdf(2,20,0.06)"
   ]
  },
  {
   "cell_type": "markdown",
   "id": "641bb39c",
   "metadata": {},
   "source": [
    "Solve the binomial probability for n=20,p=.40, and x=10"
   ]
  },
  {
   "cell_type": "code",
   "execution_count": 20,
   "id": "4c892509",
   "metadata": {},
   "outputs": [
    {
     "data": {
      "text/plain": [
       "0.11714155053639005"
      ]
     },
     "execution_count": 20,
     "metadata": {},
     "output_type": "execute_result"
    }
   ],
   "source": [
    "binom.pmf(k=10,n=20,p=0.40)"
   ]
  },
  {
   "cell_type": "markdown",
   "id": "9b22884f",
   "metadata": {},
   "source": [
    "# Poisson Distribution"
   ]
  },
  {
   "cell_type": "code",
   "execution_count": 5,
   "id": "d87ea5f0",
   "metadata": {},
   "outputs": [],
   "source": [
    "from scipy.stats import poisson"
   ]
  },
  {
   "cell_type": "code",
   "execution_count": 23,
   "id": "6caa3cd4",
   "metadata": {},
   "outputs": [
    {
     "data": {
      "text/plain": [
       "0.18044704431548356"
      ]
     },
     "execution_count": 23,
     "metadata": {},
     "output_type": "execute_result"
    }
   ],
   "source": [
    "poisson.pmf(3,2)       #3=x, mean=2"
   ]
  },
  {
   "cell_type": "markdown",
   "id": "bf3540e0",
   "metadata": {},
   "source": [
    "Suppose bank customer arrive randomly on weekday afternoon at an average of 3.2 customers every 4 minutes. What is the probability \n",
    "of exactly 5 customers arriving in a 4-minute interval on a weekday afternoon?"
   ]
  },
  {
   "cell_type": "code",
   "execution_count": 7,
   "id": "8b004f67",
   "metadata": {},
   "outputs": [
    {
     "data": {
      "text/plain": [
       "0.11397938346351824"
      ]
     },
     "execution_count": 7,
     "metadata": {},
     "output_type": "execute_result"
    }
   ],
   "source": [
    "poisson.pmf(5,3.2)"
   ]
  },
  {
   "cell_type": "markdown",
   "id": "d32bf7d7",
   "metadata": {},
   "source": [
    "Bank customers arrive randomly on weekday afternoon at an average of 3.2 customers every 4 minutes.What is the probability of having\n",
    "more than 7 customers ina 4-minutes interval ona weekday afternoon?"
   ]
  },
  {
   "cell_type": "code",
   "execution_count": 12,
   "id": "7161abb7",
   "metadata": {},
   "outputs": [
    {
     "data": {
      "text/plain": [
       "0.9831701582510425"
      ]
     },
     "execution_count": 12,
     "metadata": {},
     "output_type": "execute_result"
    }
   ],
   "source": [
    "prob=poisson.cdf(7,3.2)\n",
    "prob"
   ]
  },
  {
   "cell_type": "code",
   "execution_count": 14,
   "id": "e5b879a5",
   "metadata": {},
   "outputs": [
    {
     "data": {
      "text/plain": [
       "0.01682984174895752"
      ]
     },
     "execution_count": 14,
     "metadata": {},
     "output_type": "execute_result"
    }
   ],
   "source": [
    "prob_more_than_7=1-prob\n",
    "prob_more_than_7"
   ]
  },
  {
   "cell_type": "markdown",
   "id": "a0eb4ec3",
   "metadata": {},
   "source": [
    "A bank has an average random arrival rate of 3.2 customers every 4 minutes. What is the probability of getting exactly 10 customers during \n",
    "an 8-minute interval"
   ]
  },
  {
   "cell_type": "code",
   "execution_count": 15,
   "id": "e80fde87",
   "metadata": {},
   "outputs": [
    {
     "data": {
      "text/plain": [
       "0.052790043854115495"
      ]
     },
     "execution_count": 15,
     "metadata": {},
     "output_type": "execute_result"
    }
   ],
   "source": [
    "poisson.pmf(10,6.4)"
   ]
  },
  {
   "cell_type": "markdown",
   "id": "70259ff3",
   "metadata": {},
   "source": [
    "## Uniform Distribution"
   ]
  },
  {
   "cell_type": "markdown",
   "id": "667dd2e3",
   "metadata": {},
   "source": [
    "Suppose the amount of the time it takes to assemble a plastic midule ranges frok 27 to 29 seconds and that assembly times are uniformly distributed .\n",
    "Describe the distribution.What is the probability that a given assembly will take between 30 and 35 seconds?"
   ]
  },
  {
   "cell_type": "code",
   "execution_count": 19,
   "id": "cae8217f",
   "metadata": {},
   "outputs": [
    {
     "data": {
      "text/plain": [
       "array([27, 28, 29, 30, 31, 32, 33, 34, 35, 36, 37, 38, 39])"
      ]
     },
     "execution_count": 19,
     "metadata": {},
     "output_type": "execute_result"
    }
   ],
   "source": [
    "U=np.arange(27,40,1)\n",
    "U"
   ]
  },
  {
   "cell_type": "code",
   "execution_count": 25,
   "id": "9741df37",
   "metadata": {},
   "outputs": [
    {
     "data": {
      "text/plain": [
       "33.0"
      ]
     },
     "execution_count": 25,
     "metadata": {},
     "output_type": "execute_result"
    }
   ],
   "source": [
    "from scipy.stats import uniform\n",
    "uniform.mean(loc=27,scale=12)"
   ]
  },
  {
   "cell_type": "code",
   "execution_count": 29,
   "id": "ae3dfaf9",
   "metadata": {},
   "outputs": [
    {
     "data": {
      "text/plain": [
       "array([0.25      , 0.33333333, 0.41666667, 0.5       , 0.58333333,\n",
       "       0.66666667])"
      ]
     },
     "execution_count": 29,
     "metadata": {},
     "output_type": "execute_result"
    }
   ],
   "source": [
    "uniform.cdf(np.arange(30,36,1),loc=27,scale=12)"
   ]
  },
  {
   "cell_type": "code",
   "execution_count": 31,
   "id": "cfbbb8c3",
   "metadata": {},
   "outputs": [
    {
     "data": {
      "text/plain": [
       "0.41666667"
      ]
     },
     "execution_count": 31,
     "metadata": {},
     "output_type": "execute_result"
    }
   ],
   "source": [
    "prob=0.66666667-0.25\n",
    "prob"
   ]
  },
  {
   "cell_type": "markdown",
   "id": "7639c59c",
   "metadata": {},
   "source": [
    "According to the NAIC the average annual cost for automobile insurance in US in a recent year was 691. Suppose automobile insurence  cost are uniformly distributed in the US with a range of from 200 to $ 1,182. What is the standard deviation of this uniform distribution?"
   ]
  },
  {
   "cell_type": "code",
   "execution_count": 34,
   "id": "b5b66805",
   "metadata": {},
   "outputs": [
    {
     "data": {
      "text/plain": [
       "691.0"
      ]
     },
     "execution_count": 34,
     "metadata": {},
     "output_type": "execute_result"
    }
   ],
   "source": [
    "uniform.mean(loc=200,scale=(1182-200))"
   ]
  },
  {
   "cell_type": "code",
   "execution_count": 36,
   "id": "a1430f12",
   "metadata": {},
   "outputs": [
    {
     "data": {
      "text/plain": [
       "283.4789821721062"
      ]
     },
     "execution_count": 36,
     "metadata": {},
     "output_type": "execute_result"
    }
   ],
   "source": [
    "uniform.std(loc=200,scale=(1182-200))"
   ]
  },
  {
   "cell_type": "markdown",
   "id": "d6da2121",
   "metadata": {},
   "source": [
    "# Normal Distribution"
   ]
  },
  {
   "cell_type": "code",
   "execution_count": 39,
   "id": "ac1903a0",
   "metadata": {},
   "outputs": [],
   "source": [
    "from scipy.stats import norm"
   ]
  },
  {
   "cell_type": "code",
   "execution_count": 41,
   "id": "47a525b9",
   "metadata": {},
   "outputs": [
    {
     "data": {
      "text/plain": [
       "0.8413447460685429"
      ]
     },
     "execution_count": 41,
     "metadata": {},
     "output_type": "execute_result"
    }
   ],
   "source": [
    "val,m,s=68,65.5,2.5\n",
    "norm.cdf(val,m,s)"
   ]
  },
  {
   "cell_type": "markdown",
   "id": "902f5c44",
   "metadata": {},
   "source": [
    "cdf(x>val2)"
   ]
  },
  {
   "cell_type": "code",
   "execution_count": 42,
   "id": "248b827f",
   "metadata": {},
   "outputs": [
    {
     "data": {
      "text/plain": [
       "0.15865525393145707"
      ]
     },
     "execution_count": 42,
     "metadata": {},
     "output_type": "execute_result"
    }
   ],
   "source": [
    "(1-norm.cdf(val,m,s))"
   ]
  },
  {
   "cell_type": "markdown",
   "id": "748f9afb",
   "metadata": {},
   "source": [
    "cdf(val1<x<val2)"
   ]
  },
  {
   "cell_type": "code",
   "execution_count": 43,
   "id": "26e25e2f",
   "metadata": {},
   "outputs": [
    {
     "data": {
      "text/plain": [
       "0.6826894921370859"
      ]
     },
     "execution_count": 43,
     "metadata": {},
     "output_type": "execute_result"
    }
   ],
   "source": [
    "norm.cdf(val,m,s)-(norm.cdf(63,m,s))"
   ]
  },
  {
   "cell_type": "markdown",
   "id": "7da544e8",
   "metadata": {},
   "source": [
    "What is the probability of obtaining a score greater than 700 on a GMAT test that has a mean of 494 and standard deviation of 100\n",
    "? Assume GMAT scores are normally distributed."
   ]
  },
  {
   "cell_type": "markdown",
   "id": "15f672d7",
   "metadata": {},
   "source": [
    "P(x>700|m=494 and s=100)=?"
   ]
  },
  {
   "cell_type": "code",
   "execution_count": 44,
   "id": "acd31775",
   "metadata": {},
   "outputs": [
    {
     "data": {
      "text/plain": [
       "0.9995220042511792"
      ]
     },
     "execution_count": 44,
     "metadata": {},
     "output_type": "execute_result"
    }
   ],
   "source": [
    "1-norm.pdf(700,494,100)"
   ]
  },
  {
   "cell_type": "markdown",
   "id": "d017fa63",
   "metadata": {},
   "source": [
    "For the GMAT examination.What is the probability of randomly drowing a score that is 550 or less?"
   ]
  },
  {
   "cell_type": "code",
   "execution_count": 45,
   "id": "dff9bdd7",
   "metadata": {},
   "outputs": [
    {
     "data": {
      "text/plain": [
       "0.712260281150973"
      ]
     },
     "execution_count": 45,
     "metadata": {},
     "output_type": "execute_result"
    }
   ],
   "source": [
    "norm.cdf(550,494,100)"
   ]
  },
  {
   "cell_type": "markdown",
   "id": "26e1deed",
   "metadata": {},
   "source": [
    "What is the probability of rndomly obtaining a score between 300 and 600 on the GMAT exam?"
   ]
  },
  {
   "cell_type": "code",
   "execution_count": 48,
   "id": "ccbec254",
   "metadata": {},
   "outputs": [
    {
     "data": {
      "text/plain": [
       "0.0016670446350282113"
      ]
     },
     "execution_count": 48,
     "metadata": {},
     "output_type": "execute_result"
    }
   ],
   "source": [
    "norm.pdf(600,494,100)-(norm.pdf(300,494,100))"
   ]
  },
  {
   "cell_type": "markdown",
   "id": "2e1a3f17",
   "metadata": {},
   "source": [
    "What is the probability of getting a score between 350 and 450 on the same GMAT"
   ]
  },
  {
   "cell_type": "code",
   "execution_count": 50,
   "id": "585d113a",
   "metadata": {},
   "outputs": [
    {
     "data": {
      "text/plain": [
       "0.2550348541262666"
      ]
     },
     "execution_count": 50,
     "metadata": {},
     "output_type": "execute_result"
    }
   ],
   "source": [
    "norm.cdf(450,494,100)-(norm.cdf(350,494,100))"
   ]
  },
  {
   "cell_type": "code",
   "execution_count": 51,
   "id": "3213f240",
   "metadata": {},
   "outputs": [
    {
     "data": {
      "text/plain": [
       "1.6448536269514722"
      ]
     },
     "execution_count": 51,
     "metadata": {},
     "output_type": "execute_result"
    }
   ],
   "source": [
    "norm.ppf(0.95)"
   ]
  },
  {
   "cell_type": "code",
   "execution_count": 52,
   "id": "74c2ac7f",
   "metadata": {},
   "outputs": [
    {
     "data": {
      "text/plain": [
       "-0.45988328292440145"
      ]
     },
     "execution_count": 52,
     "metadata": {},
     "output_type": "execute_result"
    }
   ],
   "source": [
    "norm.ppf(1-.6772)"
   ]
  },
  {
   "cell_type": "markdown",
   "id": "6cbc3073",
   "metadata": {},
   "source": [
    "# Hypergeometric Distribution "
   ]
  },
  {
   "cell_type": "markdown",
   "id": "45c67035",
   "metadata": {},
   "source": [
    "Suppose 18 major computer companies operate in the USA and that 12 are located in california slicon vally. If three computer companes are selected randomly from the entier list. What is the probability that one probability that one or more of the sselected companies are located in the selecon vally"
   ]
  },
  {
   "cell_type": "code",
   "execution_count": 56,
   "id": "9939a172",
   "metadata": {},
   "outputs": [],
   "source": [
    "from scipy.stats import hypergeom"
   ]
  },
  {
   "cell_type": "code",
   "execution_count": 59,
   "id": "a5052645",
   "metadata": {},
   "outputs": [
    {
     "data": {
      "text/plain": [
       "0.9754901960784313"
      ]
     },
     "execution_count": 59,
     "metadata": {},
     "output_type": "execute_result"
    }
   ],
   "source": [
    "pavl=hypergeom.sf(0,18,3,12)  #hypergeom.sf(x-1,N,n,A),sf=1-cdf\n",
    "pavl"
   ]
  },
  {
   "cell_type": "markdown",
   "id": "1ea25e3b",
   "metadata": {},
   "source": [
    "A western city has 18 police officers eligible for promoson. Eleven of the 18 are Hispanic.Suppose anly five of the police officeer are choose for promoson.If the officers chosen for promoson had been seleected by chance alone.what is the probability that one or fewer of the five paromoted officcers would have been Hispanic?"
   ]
  },
  {
   "cell_type": "code",
   "execution_count": 62,
   "id": "a46f1514",
   "metadata": {},
   "outputs": [
    {
     "data": {
      "text/plain": [
       "0.04738562091503268"
      ]
     },
     "execution_count": 62,
     "metadata": {},
     "output_type": "execute_result"
    }
   ],
   "source": [
    "pval=hypergeom.cdf(1,18,5,11)\n",
    "pval"
   ]
  },
  {
   "cell_type": "markdown",
   "id": "aa7125bb",
   "metadata": {},
   "source": [
    "# Exponential Distribution"
   ]
  },
  {
   "cell_type": "markdown",
   "id": "01f586cc",
   "metadata": {},
   "source": [
    "A manufacturing firm has been involved in statistical quality control for several years.As part of the production process. part\n",
    "are randomly selected and tested . from the records if these tests , it has been established that a defacetive part occurs in a pattern\n",
    " that is poisson distributed on the average of 1.38 defects eveeru 20 minutes during production runs. Use this information to determine the probability that less than 15 minutes will elapse between any two defect"
   ]
  },
  {
   "cell_type": "code",
   "execution_count": 68,
   "id": "4991222a",
   "metadata": {},
   "outputs": [
    {
     "data": {
      "text/plain": [
       "0.7246376811594204"
      ]
     },
     "execution_count": 68,
     "metadata": {},
     "output_type": "execute_result"
    }
   ],
   "source": [
    "mu1=1/1.38 #for 20 minutes\n",
    "mu1"
   ]
  },
  {
   "cell_type": "code",
   "execution_count": 73,
   "id": "c711b67d",
   "metadata": {},
   "outputs": [],
   "source": [
    "from scipy.stats import expon"
   ]
  },
  {
   "cell_type": "code",
   "execution_count": 75,
   "id": "b39c1a0d",
   "metadata": {},
   "outputs": [
    {
     "data": {
      "text/plain": [
       "0.6447736190750485"
      ]
     },
     "execution_count": 75,
     "metadata": {},
     "output_type": "execute_result"
    }
   ],
   "source": [
    "expon.cdf(0.75,0,(1/1.38))  #15/20=0.75,loc=0 because y=(x-loc)/scale. and y=x/scale"
   ]
  }
 ],
 "metadata": {
  "kernelspec": {
   "display_name": "Python 3 (ipykernel)",
   "language": "python",
   "name": "python3"
  },
  "language_info": {
   "codemirror_mode": {
    "name": "ipython",
    "version": 3
   },
   "file_extension": ".py",
   "mimetype": "text/x-python",
   "name": "python",
   "nbconvert_exporter": "python",
   "pygments_lexer": "ipython3",
   "version": "3.11.4"
  }
 },
 "nbformat": 4,
 "nbformat_minor": 5
}
